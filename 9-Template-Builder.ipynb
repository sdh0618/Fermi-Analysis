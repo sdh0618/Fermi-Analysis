{
 "cells": [
  {
   "cell_type": "code",
   "execution_count": 1,
   "id": "612d845f",
   "metadata": {},
   "outputs": [],
   "source": [
    "import numpy as np\n",
    "from matplotlib import pyplot as plt\n",
    "from astropy.io import fits"
   ]
  },
  {
   "cell_type": "code",
   "execution_count": 6,
   "id": "bb2351c9",
   "metadata": {},
   "outputs": [],
   "source": [
    "FornaxA = fits.open('/Users/songdeheng/Workspace/FermiData/Models/LAT_extended_sources_8years/Templates/W51C.fits')"
   ]
  },
  {
   "cell_type": "code",
   "execution_count": 7,
   "id": "016b4909",
   "metadata": {},
   "outputs": [
    {
     "name": "stdout",
     "output_type": "stream",
     "text": [
      "Filename: /Users/songdeheng/Workspace/FermiData/Models/LAT_extended_sources_8years/Templates/W51C.fits\n",
      "No.    Name      Ver    Type      Cards   Dimensions   Format\n",
      "  0  PRIMARY       1 PrimaryHDU      29   (97, 97)   float32   \n"
     ]
    }
   ],
   "source": [
    "FornaxA.info()"
   ]
  },
  {
   "cell_type": "code",
   "execution_count": 8,
   "id": "02c18e8a",
   "metadata": {},
   "outputs": [
    {
     "data": {
      "text/plain": [
       "SIMPLE  =                    T / Written by IDL:  Wed Dec 23 20:39:45 2015      \n",
       "BITPIX  =                  -32 / number of bits per data pixel                  \n",
       "NAXIS   =                    2 / number of data axes                            \n",
       "NAXIS1  =                   97 /Number of positions along axis 1                \n",
       "NAXIS2  =                   97 /Number of positions along axis 2                \n",
       "EXTEND  =                    T / FITS dataset may contain extensions            \n",
       "COMMENT   FITS (Flexible Image Transport System) format is defined in 'Astronomy\n",
       "COMMENT   and Astrophysics', volume 376, page 359; bibcode: 2001A&A...376..359H \n",
       "DATE    = '2010-06-28'         / Creation UTC (CCCC-MM-DD) date of FITS header  \n",
       "COMMENT FITS (Flexible Image Transport System) format is defined in 'Astronomy  \n",
       "COMMENT and Astrophysics', volume 376, page 359; bibcode 2001A&A...376..359H    \n",
       "CTYPE1  = 'RA---ARC'           / Coordinate Type                                \n",
       "CTYPE2  = 'DEC--ARC'           / Coordinate Type                                \n",
       "EQUINOX =              2000.00 / Equinox of Ref. Coord.                         \n",
       "CDELT1  =          -0.00976563 / Degrees / Pixel                                \n",
       "CDELT2  =           0.00976563 / Degrees / Pixel                                \n",
       "CROTA2  =              0.00000 / Rotation Angle (Degrees)                       \n",
       "CRPIX1  =              49.0000 / Reference Pixel in X                           \n",
       "CRPIX2  =              49.0000 / Reference Pixel in Y                           \n",
       "CRVAL1  =              290.818 / R.A. (degrees) of reference pixel              \n",
       "CRVAL2  =               14.145 / Declination of reference pixel                 \n",
       "LONPOLE =        180.000000000 / Native longitude of Celestial pole             \n",
       "LATPOLE =        0.00000000000 / Celestial latitude of native pole              \n",
       "PV2_1   =        0.00000000000 /Projection parameter 1                          \n",
       "HISTORY PUTAST: Jun 28 12:23:04 2010 World Coordinate System parameters written \n",
       "HISTORY File modified by user 'Jbb' with fv  on 2011-02-10T09:16:55             \n",
       "HISTORY File modified by user 'Jbb' with fv  on 2012-11-23T11:34:46             \n",
       "BUNIT   = '/sr     '           /                                                \n",
       "HISTORY File modified by user 'Jbb' with fv  on 2015-12-23T20:41:15             "
      ]
     },
     "execution_count": 8,
     "metadata": {},
     "output_type": "execute_result"
    }
   ],
   "source": [
    "FornaxA[0].header"
   ]
  },
  {
   "cell_type": "code",
   "execution_count": 9,
   "id": "a78d4394",
   "metadata": {},
   "outputs": [
    {
     "data": {
      "text/plain": [
       "<matplotlib.image.AxesImage at 0x7fdb31eaa410>"
      ]
     },
     "execution_count": 9,
     "metadata": {},
     "output_type": "execute_result"
    },
    {
     "data": {
      "image/png": "[encoded data removed]",
      "text/plain": [
       "<Figure size 432x288 with 1 Axes>"
      ]
     },
     "metadata": {
      "needs_background": "light"
     },
     "output_type": "display_data"
    }
   ],
   "source": [
    "plt.imshow(FornaxA[0].data)"
   ]
  },
  {
   "cell_type": "code",
   "execution_count": null,
   "id": "64c9abac",
   "metadata": {},
   "outputs": [],
   "source": []
  }
 ],
 "metadata": {
  "kernelspec": {
   "display_name": "Python 3 (ipykernel)",
   "language": "python",
   "name": "python3"
  },
  "language_info": {
   "codemirror_mode": {
    "name": "ipython",
    "version": 3
   },
   "file_extension": ".py",
   "mimetype": "text/x-python",
   "name": "python",
   "nbconvert_exporter": "python",
   "pygments_lexer": "ipython3",
   "version": "3.7.12"
  }
 },
 "nbformat": 4,
 "nbformat_minor": 5
}
