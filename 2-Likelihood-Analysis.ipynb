{
 "cells": [
  {
   "cell_type": "code",
   "execution_count": null,
   "id": "a7511074",
   "metadata": {},
   "outputs": [],
   "source": []
  },
  {
   "cell_type": "markdown",
   "id": "0ee68eb8",
   "metadata": {},
   "source": [
    "# 1. Unbinned"
   ]
  },
  {
   "cell_type": "markdown",
   "id": "80e87a96",
   "metadata": {},
   "source": [
    "# 2. Binned Analysis"
   ]
  },
  {
   "cell_type": "markdown",
   "id": "28d3bd91",
   "metadata": {},
   "source": [
    "## With Energy Dispersion"
   ]
  },
  {
   "cell_type": "markdown",
   "id": "4406cbab",
   "metadata": {},
   "source": [
    "https://fermi.gsfc.nasa.gov/ssc/data/analysis/documentation/Pass8_edisp_usage.html"
   ]
  },
  {
   "cell_type": "code",
   "execution_count": null,
   "id": "02148411",
   "metadata": {},
   "outputs": [],
   "source": []
  }
 ],
 "metadata": {
  "kernelspec": {
   "display_name": "Python 3.9.12 ('fermipy')",
   "language": "python",
   "name": "python3"
  },
  "language_info": {
   "codemirror_mode": {
    "name": "ipython",
    "version": 3
   },
   "file_extension": ".py",
   "mimetype": "text/x-python",
   "name": "python",
   "nbconvert_exporter": "python",
   "pygments_lexer": "ipython3",
   "version": "3.9.12"
  },
  "vscode": {
   "interpreter": {
    "hash": "780e914ac9b73df4edcce1ae47180b2a89325476f81f5839f4da856fedf158b7"
   }
  }
 },
 "nbformat": 4,
 "nbformat_minor": 5
}
