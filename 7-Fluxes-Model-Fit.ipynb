{
 "cells": [
  {
   "cell_type": "code",
   "execution_count": 1,
   "id": "a0af309f",
   "metadata": {},
   "outputs": [],
   "source": [
    "import numpy as np"
   ]
  },
  {
   "cell_type": "code",
   "execution_count": 6,
   "id": "f8e18cf0",
   "metadata": {},
   "outputs": [
    {
     "data": {
      "text/plain": [
       "(48, 3)"
      ]
     },
     "execution_count": 6,
     "metadata": {},
     "output_type": "execute_result"
    }
   ],
   "source": [
    "iso_P8R3_SOURCE_V3_v1 = np.loadtxt('/Users/songdeheng/Workspace/FermiData/Models/iso_P8R3_SOURCE_V3_v1.txt')\n",
    "iso_P8R3_SOURCE_V3_v1.shape"
   ]
  },
  {
   "cell_type": "code",
   "execution_count": 9,
   "id": "258a8753",
   "metadata": {},
   "outputs": [],
   "source": [
    "energies =  iso_P8R3_SOURCE_V3_v1[:,0] # MeV\n",
    "dNdE = iso_P8R3_SOURCE_V3_v1[:,1] # ph/cm2/s/MeV/sr"
   ]
  },
  {
   "cell_type": "code",
   "execution_count": 12,
   "id": "ede92946",
   "metadata": {},
   "outputs": [],
   "source": [
    "dE = (energies[1:] - energies[:-1])"
   ]
  },
  {
   "cell_type": "code",
   "execution_count": 15,
   "id": "8dfaa92a",
   "metadata": {},
   "outputs": [
    {
     "data": {
      "text/plain": [
       "5.85968653447791e-05"
      ]
     },
     "execution_count": 15,
     "metadata": {},
     "output_type": "execute_result"
    }
   ],
   "source": [
    "np.sum(dNdE[:-1]*dE)"
   ]
  }
 ],
 "metadata": {
  "kernelspec": {
   "display_name": "Python 3 (ipykernel)",
   "language": "python",
   "name": "python3"
  },
  "language_info": {
   "codemirror_mode": {
    "name": "ipython",
    "version": 3
   },
   "file_extension": ".py",
   "mimetype": "text/x-python",
   "name": "python",
   "nbconvert_exporter": "python",
   "pygments_lexer": "ipython3",
   "version": "3.9.12"
  }
 },
 "nbformat": 4,
 "nbformat_minor": 5
}
