{
 "cells": [
  {
   "cell_type": "code",
   "execution_count": 1,
   "id": "c8dbf886",
   "metadata": {},
   "outputs": [],
   "source": [
    "import numpy as np\n",
    "from astropy.io import fits\n",
    "from matplotlib import pyplot as plt"
   ]
  },
  {
   "cell_type": "code",
   "execution_count": 32,
   "id": "c74952a4",
   "metadata": {},
   "outputs": [],
   "source": [
    "gll_psc_v29 = fits.open('/Users/songdeheng/Workspace/FermiData/Models/gll_psc_v29.fit')"
   ]
  },
  {
   "cell_type": "code",
   "execution_count": 5,
   "id": "1e4c9213",
   "metadata": {},
   "outputs": [
    {
     "name": "stdout",
     "output_type": "stream",
     "text": [
      "Filename: /Users/songdeheng/Workspace/FermiData/Models/gll_psc_v29.fit\n",
      "No.    Name      Ver    Type      Cards   Dimensions   Format\n",
      "  0  PRIMARY       1 PrimaryHDU       9   ()      \n",
      "  1  LAT_Point_Source_Catalog    1 BinTableHDU    455   6659R x 79C   [18A, I, E, E, E, E, E, E, E, E, E, E, I, 18A, E, E, E, E, E, E, 17A, E, E, E, E, E, E, E, E, E, E, E, E, E, E, E, E, E, E, E, E, E, E, E, E, E, 8E, 16E, 8E, 8E, E, E, E, E, E, E, D, E, 12E, 24E, 12E, 18A, 18A, 18A, 18A, 18A, 18A, A, 30A, 5A, 10A, 28A, 28A, E, E, D, D, E, I]   \n",
      "  2  ExtendedSources    1 BinTableHDU     76   78R x 11C   [17A, E, E, E, E, 11A, E, E, E, 11A, 24A]   \n",
      "  3  ROIs          1 BinTableHDU    127   1988R x 12C   [I, E, E, E, E, E, E, E, E, E, E, E]   \n",
      "  4  Components    1 BinTableHDU     55   19R x 9C   [E, E, I, I, E, E, E, I, I]   \n",
      "  5  EnergyBounds    1 BinTableHDU     56   20R x 10C   [E, E, E, I, I, E, E, E, I, I]   \n",
      "  6  Hist_Start    1 BinTableHDU     23   13R x 1C   [D]   \n",
      "  7  GTI           1 BinTableHDU     37   69107R x 2C   [D, D]   \n"
     ]
    }
   ],
   "source": [
    "gll_psc_v29.info()"
   ]
  },
  {
   "cell_type": "code",
   "execution_count": 8,
   "id": "09e4ba70",
   "metadata": {},
   "outputs": [
    {
     "data": {
      "text/plain": [
       "ColDefs(\n",
       "    name = 'Source_Name'; format = '18A'\n",
       "    name = 'DataRelease'; format = 'I'\n",
       "    name = 'RAJ2000'; format = 'E'; unit = 'deg'; disp = 'F8.4'\n",
       "    name = 'DEJ2000'; format = 'E'; unit = 'deg'; disp = 'F8.4'\n",
       "    name = 'GLON'; format = 'E'; unit = 'deg'; disp = 'F8.4'\n",
       "    name = 'GLAT'; format = 'E'; unit = 'deg'; disp = 'F8.4'\n",
       "    name = 'Conf_68_SemiMajor'; format = 'E'; unit = 'deg'; disp = 'F8.4'\n",
       "    name = 'Conf_68_SemiMinor'; format = 'E'; unit = 'deg'; disp = 'F8.4'\n",
       "    name = 'Conf_68_PosAng'; format = 'E'; unit = 'deg'; disp = 'F8.3'\n",
       "    name = 'Conf_95_SemiMajor'; format = 'E'; unit = 'deg'; disp = 'F8.4'\n",
       "    name = 'Conf_95_SemiMinor'; format = 'E'; unit = 'deg'; disp = 'F8.4'\n",
       "    name = 'Conf_95_PosAng'; format = 'E'; unit = 'deg'; disp = 'F8.3'\n",
       "    name = 'ROI_num'; format = 'I'\n",
       "    name = 'Extended_Source_Name'; format = '18A'\n",
       "    name = 'Signif_Avg'; format = 'E'; disp = 'F8.3'\n",
       "    name = 'Pivot_Energy'; format = 'E'; unit = 'MeV'; disp = 'F10.2'\n",
       "    name = 'Flux1000'; format = 'E'; unit = 'cm-2 ph s-1'; disp = 'E10.4'\n",
       "    name = 'Unc_Flux1000'; format = 'E'; unit = 'cm-2 ph s-1'; disp = 'E10.4'\n",
       "    name = 'Energy_Flux100'; format = 'E'; unit = 'erg cm-2 s-1'; disp = 'E10.4'\n",
       "    name = 'Unc_Energy_Flux100'; format = 'E'; unit = 'erg cm-2 s-1'; disp = 'E10.4'\n",
       "    name = 'SpectrumType'; format = '17A'\n",
       "    name = 'PL_Flux_Density'; format = 'E'; unit = 'cm-2 MeV-1 ph s-1'; disp = 'E10.4'\n",
       "    name = 'Unc_PL_Flux_Density'; format = 'E'; unit = 'cm-2 MeV-1 ph s-1'; disp = 'E10.4'\n",
       "    name = 'PL_Index'; format = 'E'; disp = 'F8.4'\n",
       "    name = 'Unc_PL_Index'; format = 'E'; disp = 'F8.4'\n",
       "    name = 'LP_Flux_Density'; format = 'E'; unit = 'cm-2 MeV-1 ph s-1'; disp = 'E10.4'\n",
       "    name = 'Unc_LP_Flux_Density'; format = 'E'; unit = 'cm-2 MeV-1 ph s-1'; disp = 'E10.4'\n",
       "    name = 'LP_Index'; format = 'E'; disp = 'F8.4'\n",
       "    name = 'Unc_LP_Index'; format = 'E'; disp = 'F8.4'\n",
       "    name = 'LP_beta'; format = 'E'; disp = 'F8.4'\n",
       "    name = 'Unc_LP_beta'; format = 'E'; disp = 'F8.4'\n",
       "    name = 'LP_SigCurv'; format = 'E'; disp = 'F8.3'\n",
       "    name = 'LP_EPeak'; format = 'E'; unit = 'MeV'; disp = 'F10.1'\n",
       "    name = 'Unc_LP_EPeak'; format = 'E'; unit = 'MeV'; disp = 'F10.1'\n",
       "    name = 'PLEC_Flux_Density'; format = 'E'; unit = 'cm-2 MeV-1 ph s-1'; disp = 'E10.4'\n",
       "    name = 'Unc_PLEC_Flux_Density'; format = 'E'; unit = 'cm-2 MeV-1 ph s-1'; disp = 'E10.4'\n",
       "    name = 'PLEC_IndexS'; format = 'E'; disp = 'F8.4'\n",
       "    name = 'Unc_PLEC_IndexS'; format = 'E'; disp = 'F8.4'\n",
       "    name = 'PLEC_ExpfactorS'; format = 'E'; disp = 'F8.5'\n",
       "    name = 'Unc_PLEC_ExpfactorS'; format = 'E'; disp = 'F8.5'\n",
       "    name = 'PLEC_Exp_Index'; format = 'E'; disp = 'F8.4'\n",
       "    name = 'Unc_PLEC_Exp_Index'; format = 'E'; disp = 'F8.4'\n",
       "    name = 'PLEC_SigCurv'; format = 'E'; disp = 'F8.3'\n",
       "    name = 'PLEC_EPeak'; format = 'E'; unit = 'MeV'; disp = 'F10.1'\n",
       "    name = 'Unc_PLEC_EPeak'; format = 'E'; unit = 'MeV'; disp = 'F10.1'\n",
       "    name = 'Npred'; format = 'E'; disp = 'F10.2'\n",
       "    name = 'Flux_Band'; format = '8E'; unit = 'ph cm-2 s-1'\n",
       "    name = 'Unc_Flux_Band'; format = '16E'; unit = 'ph cm-2 s-1'; dim = '( 2, 8)'\n",
       "    name = 'nuFnu_Band'; format = '8E'; unit = 'erg cm-2 s-1'\n",
       "    name = 'Sqrt_TS_Band'; format = '8E'\n",
       "    name = 'Variability_Index'; format = 'E'; disp = 'F10.4'\n",
       "    name = 'Frac_Variability'; format = 'E'; disp = 'F7.4'\n",
       "    name = 'Unc_Frac_Variability'; format = 'E'; disp = 'F7.4'\n",
       "    name = 'Signif_Peak'; format = 'E'; disp = 'F8.3'\n",
       "    name = 'Flux_Peak'; format = 'E'; unit = 'ph cm-2 s-1'\n",
       "    name = 'Unc_Flux_Peak'; format = 'E'; unit = 'ph cm-2 s-1'\n",
       "    name = 'Time_Peak'; format = 'D'; unit = 's'\n",
       "    name = 'Peak_Interval'; format = 'E'; unit = 's'\n",
       "    name = 'Flux_History'; format = '12E'; unit = 'ph cm-2 s-1'\n",
       "    name = 'Unc_Flux_History'; format = '24E'; unit = 'ph cm-2 s-1'; dim = '( 2, 12)'\n",
       "    name = 'Sqrt_TS_History'; format = '12E'\n",
       "    name = 'ASSOC_4FGL'; format = '18A'\n",
       "    name = 'ASSOC_FGL'; format = '18A'\n",
       "    name = 'ASSOC_FHL'; format = '18A'\n",
       "    name = 'ASSOC_GAM1'; format = '18A'\n",
       "    name = 'ASSOC_GAM2'; format = '18A'\n",
       "    name = 'ASSOC_GAM3'; format = '18A'\n",
       "    name = 'TEVCAT_FLAG'; format = 'A'\n",
       "    name = 'ASSOC_TEV'; format = '30A'\n",
       "    name = 'CLASS1'; format = '5A'\n",
       "    name = 'CLASS2'; format = '10A'\n",
       "    name = 'ASSOC1'; format = '28A'\n",
       "    name = 'ASSOC2'; format = '28A'\n",
       "    name = 'ASSOC_PROB_BAY'; format = 'E'; disp = 'F6.4'\n",
       "    name = 'ASSOC_PROB_LR'; format = 'E'; disp = 'F6.4'\n",
       "    name = 'RA_Counterpart'; format = 'D'; unit = 'deg'; disp = 'F8.4'\n",
       "    name = 'DEC_Counterpart'; format = 'D'; unit = 'deg'; disp = 'F8.4'\n",
       "    name = 'Unc_Counterpart'; format = 'E'; unit = 'deg'; disp = 'F8.5'\n",
       "    name = 'Flags'; format = 'I'\n",
       ")"
      ]
     },
     "execution_count": 8,
     "metadata": {},
     "output_type": "execute_result"
    }
   ],
   "source": [
    "gll_psc_v29[1].data.columns"
   ]
  },
  {
   "cell_type": "code",
   "execution_count": 21,
   "id": "810199dc",
   "metadata": {},
   "outputs": [],
   "source": [
    "dir(gll_psc_v29);"
   ]
  },
  {
   "cell_type": "code",
   "execution_count": 36,
   "id": "5b196ea8",
   "metadata": {},
   "outputs": [],
   "source": [
    "gll_psc_v29[1].data['SpectrumType'][gll_psc_v29[1].data['SpectrumType'] == \"PLSuperExpCutoff\"] = 'LogParabola'"
   ]
  },
  {
   "cell_type": "code",
   "execution_count": 37,
   "id": "791fa345",
   "metadata": {},
   "outputs": [
    {
     "data": {
      "text/plain": [
       "0"
      ]
     },
     "execution_count": 37,
     "metadata": {},
     "output_type": "execute_result"
    }
   ],
   "source": [
    "(gll_psc_v29[1].data['SpectrumType'] == \"PLSuperExpCutoff\").sum()"
   ]
  },
  {
   "cell_type": "code",
   "execution_count": 19,
   "id": "0a13f9b1",
   "metadata": {},
   "outputs": [
    {
     "data": {
      "text/plain": [
       "ColDefs(\n",
       "    name = 'Source_Name'; format = '17A'\n",
       "    name = 'RAJ2000'; format = 'E'; unit = 'deg'; disp = 'F8.4'\n",
       "    name = 'DEJ2000'; format = 'E'; unit = 'deg'; disp = 'F8.4'\n",
       "    name = 'GLON'; format = 'E'; unit = 'deg'; disp = 'F8.4'\n",
       "    name = 'GLAT'; format = 'E'; unit = 'deg'; disp = 'F8.4'\n",
       "    name = 'Model_Form'; format = '11A'\n",
       "    name = 'Model_SemiMajor'; format = 'E'; unit = 'deg'; disp = 'F6.3'\n",
       "    name = 'Model_SemiMinor'; format = 'E'; unit = 'deg'; disp = 'F6.3'\n",
       "    name = 'Model_PosAng'; format = 'E'; unit = 'deg'; disp = 'F6.1'\n",
       "    name = 'Spatial_Function'; format = '11A'\n",
       "    name = 'Spatial_Filename'; format = '24A'\n",
       ")"
      ]
     },
     "execution_count": 19,
     "metadata": {},
     "output_type": "execute_result"
    }
   ],
   "source": [
    "gll_psc_v29[2].data.columns"
   ]
  },
  {
   "cell_type": "code",
   "execution_count": 22,
   "id": "ba4a7adb",
   "metadata": {},
   "outputs": [],
   "source": [
    "gll_psc_v27 = fits.open('/Users/songdeheng/Workspace/FermiData/Models/gll_psc_v27.fit')"
   ]
  },
  {
   "cell_type": "code",
   "execution_count": 24,
   "id": "ce03c9d7",
   "metadata": {
    "scrolled": true
   },
   "outputs": [
    {
     "data": {
      "text/plain": [
       "ColDefs(\n",
       "    name = 'Source_Name'; format = '18A'\n",
       "    name = 'DataRelease'; format = 'I'; null = 16959\n",
       "    name = 'RAJ2000'; format = 'E'; unit = 'deg'; disp = 'F8.4'\n",
       "    name = 'DEJ2000'; format = 'E'; unit = 'deg'; disp = 'F8.4'\n",
       "    name = 'GLON'; format = 'E'; unit = 'deg'; disp = 'F8.4'\n",
       "    name = 'GLAT'; format = 'E'; unit = 'deg'; disp = 'F8.4'\n",
       "    name = 'Conf_68_SemiMajor'; format = 'E'; unit = 'deg'; disp = 'F8.4'\n",
       "    name = 'Conf_68_SemiMinor'; format = 'E'; unit = 'deg'; disp = 'F8.4'\n",
       "    name = 'Conf_68_PosAng'; format = 'E'; unit = 'deg'; disp = 'F8.3'\n",
       "    name = 'Conf_95_SemiMajor'; format = 'E'; unit = 'deg'; disp = 'F8.4'\n",
       "    name = 'Conf_95_SemiMinor'; format = 'E'; unit = 'deg'; disp = 'F8.4'\n",
       "    name = 'Conf_95_PosAng'; format = 'E'; unit = 'deg'; disp = 'F8.3'\n",
       "    name = 'ROI_num'; format = 'I'; null = 16959\n",
       "    name = 'Extended_Source_Name'; format = '18A'\n",
       "    name = 'Signif_Avg'; format = 'E'; disp = 'F8.3'\n",
       "    name = 'Pivot_Energy'; format = 'E'; unit = 'MeV'; disp = 'F10.2'\n",
       "    name = 'Flux1000'; format = 'E'; unit = 'ph cm-2 s-1'; disp = 'E10.4'\n",
       "    name = 'Unc_Flux1000'; format = 'E'; unit = 'ph cm-2 s-1'; disp = 'E10.4'\n",
       "    name = 'Energy_Flux100'; format = 'E'; unit = 'erg cm-2 s-1'; disp = 'E10.4'\n",
       "    name = 'Unc_Energy_Flux100'; format = 'E'; unit = 'erg cm-2 s-1'; disp = 'E10.4'\n",
       "    name = 'SpectrumType'; format = '17A'\n",
       "    name = 'PL_Flux_Density'; format = 'E'; unit = 'ph cm-2 MeV-1 s-1'; disp = 'E10.4'\n",
       "    name = 'Unc_PL_Flux_Density'; format = 'E'; unit = 'ph cm-2 MeV-1 s-1'; disp = 'E10.4'\n",
       "    name = 'PL_Index'; format = 'E'; disp = 'F8.4'\n",
       "    name = 'Unc_PL_Index'; format = 'E'; disp = 'F8.4'\n",
       "    name = 'LP_Flux_Density'; format = 'E'; unit = 'ph cm-2 MeV-1 s-1'; disp = 'E10.4'\n",
       "    name = 'Unc_LP_Flux_Density'; format = 'E'; unit = 'ph cm-2 MeV-1 s-1'; disp = 'E10.4'\n",
       "    name = 'LP_Index'; format = 'E'; disp = 'F8.4'\n",
       "    name = 'Unc_LP_Index'; format = 'E'; disp = 'F8.4'\n",
       "    name = 'LP_beta'; format = 'E'; disp = 'F8.4'\n",
       "    name = 'Unc_LP_beta'; format = 'E'; disp = 'F8.4'\n",
       "    name = 'LP_SigCurv'; format = 'E'; disp = 'F8.3'\n",
       "    name = 'PLEC_Flux_Density'; format = 'E'; unit = 'ph cm-2 MeV-1 s-1'; disp = 'E10.4'\n",
       "    name = 'Unc_PLEC_Flux_Density'; format = 'E'; unit = 'ph cm-2 MeV-1 s-1'; disp = 'E10.4'\n",
       "    name = 'PLEC_Index'; format = 'E'; disp = 'F8.4'\n",
       "    name = 'Unc_PLEC_Index'; format = 'E'; disp = 'F8.4'\n",
       "    name = 'PLEC_Expfactor'; format = 'E'; disp = 'F8.5'\n",
       "    name = 'Unc_PLEC_Expfactor'; format = 'E'; disp = 'F8.5'\n",
       "    name = 'PLEC_Exp_Index'; format = 'E'; disp = 'F8.4'\n",
       "    name = 'Unc_PLEC_Exp_Index'; format = 'E'; disp = 'F8.4'\n",
       "    name = 'PLEC_SigCurv'; format = 'E'; disp = 'F8.3'\n",
       "    name = 'Npred'; format = 'E'; disp = 'F10.2'\n",
       "    name = 'Flux_Band'; format = '7E'; unit = 'ph cm-2 s-1'\n",
       "    name = 'Unc_Flux_Band'; format = '14E'; unit = 'ph cm-2 s-1'; dim = '( 2, 7)'\n",
       "    name = 'nuFnu_Band'; format = '7E'; unit = 'erg cm-2 s-1'\n",
       "    name = 'Sqrt_TS_Band'; format = '7E'\n",
       "    name = 'Variability_Index'; format = 'E'; disp = 'F10.4'\n",
       "    name = 'Frac_Variability'; format = 'E'; disp = 'F7.4'\n",
       "    name = 'Unc_Frac_Variability'; format = 'E'; disp = 'F7.4'\n",
       "    name = 'Signif_Peak'; format = 'E'; disp = 'F8.3'\n",
       "    name = 'Flux_Peak'; format = 'E'; unit = 'ph cm-2 s-1'\n",
       "    name = 'Unc_Flux_Peak'; format = 'E'; unit = 'ph cm-2 s-1'\n",
       "    name = 'Time_Peak'; format = 'D'; unit = 's'\n",
       "    name = 'Peak_Interval'; format = 'E'; unit = 's'\n",
       "    name = 'Flux_History'; format = '10E'; unit = 'ph cm-2 s-1'\n",
       "    name = 'Unc_Flux_History'; format = '20E'; unit = 'ph cm-2 s-1'; dim = '( 2, 10)'\n",
       "    name = 'Sqrt_TS_History'; format = '10E'\n",
       "    name = 'ASSOC_FGL'; format = '18A'\n",
       "    name = 'ASSOC_FHL'; format = '18A'\n",
       "    name = 'ASSOC_GAM1'; format = '18A'\n",
       "    name = 'ASSOC_GAM2'; format = '18A'\n",
       "    name = 'ASSOC_GAM3'; format = '18A'\n",
       "    name = 'TEVCAT_FLAG'; format = 'A'\n",
       "    name = 'ASSOC_TEV'; format = '26A'\n",
       "    name = 'CLASS1'; format = '5A'\n",
       "    name = 'CLASS2'; format = '5A'\n",
       "    name = 'ASSOC1'; format = '28A'\n",
       "    name = 'ASSOC2'; format = '26A'\n",
       "    name = 'ASSOC_PROB_BAY'; format = 'E'; disp = 'F6.4'\n",
       "    name = 'ASSOC_PROB_LR'; format = 'E'; disp = 'F6.4'\n",
       "    name = 'RA_Counterpart'; format = 'D'; unit = 'deg'; disp = 'F8.4'\n",
       "    name = 'DEC_Counterpart'; format = 'D'; unit = 'deg'; disp = 'F8.4'\n",
       "    name = 'Unc_Counterpart'; format = 'E'; unit = 'deg'; disp = 'F8.5'\n",
       "    name = 'Flags'; format = 'I'\n",
       ")"
      ]
     },
     "execution_count": 24,
     "metadata": {},
     "output_type": "execute_result"
    }
   ],
   "source": [
    "gll_psc_v27[1].data.columns"
   ]
  },
  {
   "cell_type": "code",
   "execution_count": null,
   "id": "656f5131",
   "metadata": {},
   "outputs": [],
   "source": [
    "    name = 'PLEC_Flux_Density'; format = 'E'; unit = 'ph cm-2 MeV-1 s-1'; disp = 'E10.4'\n",
    "    name = 'Unc_PLEC_Flux_Density'; format = 'E'; unit = 'ph cm-2 MeV-1 s-1'; disp = 'E10.4'\n",
    "    name = 'PLEC_Index'; format = 'E'; disp = 'F8.4'\n",
    "    name = 'Unc_PLEC_Index'; format = 'E'; disp = 'F8.4'\n",
    "    name = 'PLEC_Expfactor'; format = 'E'; disp = 'F8.5'\n",
    "    name = 'Unc_PLEC_Expfactor'; format = 'E'; disp = 'F8.5'\n",
    "    name = 'PLEC_Exp_Index'; format = 'E'; disp = 'F8.4'\n",
    "    name = 'Unc_PLEC_Exp_Index'; format = 'E'; disp = 'F8.4'\n",
    "    name = 'PLEC_SigCurv'; format = 'E'; disp = 'F8.3'"
   ]
  },
  {
   "cell_type": "code",
   "execution_count": null,
   "id": "be9acae1",
   "metadata": {},
   "outputs": [],
   "source": [
    "    name = 'PLEC_Flux_Density'; format = 'E'; unit = 'cm-2 MeV-1 ph s-1'; disp = 'E10.4'\n",
    "    name = 'Unc_PLEC_Flux_Density'; format = 'E'; unit = 'cm-2 MeV-1 ph s-1'; disp = 'E10.4'\n",
    "    name = 'PLEC_IndexS'; format = 'E'; disp = 'F8.4'\n",
    "    name = 'Unc_PLEC_IndexS'; format = 'E'; disp = 'F8.4'\n",
    "    name = 'PLEC_ExpfactorS'; format = 'E'; disp = 'F8.5'\n",
    "    name = 'Unc_PLEC_ExpfactorS'; format = 'E'; disp = 'F8.5'\n",
    "    name = 'PLEC_Exp_Index'; format = 'E'; disp = 'F8.4'\n",
    "    name = 'Unc_PLEC_Exp_Index'; format = 'E'; disp = 'F8.4'\n",
    "    name = 'PLEC_SigCurv'; format = 'E'; disp = 'F8.3'\n",
    "    name = 'PLEC_EPeak'; format = 'E'; unit = 'MeV'; disp = 'F10.1'\n",
    "    name = 'Unc_PLEC_EPeak'; format = 'E'; unit = 'MeV'; disp = 'F10.1'"
   ]
  },
  {
   "cell_type": "code",
   "execution_count": 34,
   "id": "117eb411",
   "metadata": {},
   "outputs": [
    {
     "ename": "KeyError",
     "evalue": "\"Key 'PLEC_IndexS' does not exist.\"",
     "output_type": "error",
     "traceback": [
      "\u001b[0;31m---------------------------------------------------------------------------\u001b[0m",
      "\u001b[0;31mValueError\u001b[0m                                Traceback (most recent call last)",
      "\u001b[0;32m~/anaconda3/envs/fermi/lib/python3.7/site-packages/astropy/io/fits/column.py\u001b[0m in \u001b[0;36m_get_index\u001b[0;34m(names, key)\u001b[0m\n\u001b[1;32m   2008\u001b[0m         \u001b[0;32mtry\u001b[0m\u001b[0;34m:\u001b[0m\u001b[0;34m\u001b[0m\u001b[0;34m\u001b[0m\u001b[0m\n\u001b[0;32m-> 2009\u001b[0;31m             \u001b[0mindx\u001b[0m \u001b[0;34m=\u001b[0m \u001b[0mnames\u001b[0m\u001b[0;34m.\u001b[0m\u001b[0mindex\u001b[0m\u001b[0;34m(\u001b[0m\u001b[0mkey\u001b[0m\u001b[0;34m.\u001b[0m\u001b[0mrstrip\u001b[0m\u001b[0;34m(\u001b[0m\u001b[0;34m)\u001b[0m\u001b[0;34m)\u001b[0m\u001b[0;34m\u001b[0m\u001b[0;34m\u001b[0m\u001b[0m\n\u001b[0m\u001b[1;32m   2010\u001b[0m         \u001b[0;32mexcept\u001b[0m \u001b[0mValueError\u001b[0m\u001b[0;34m:\u001b[0m\u001b[0;34m\u001b[0m\u001b[0;34m\u001b[0m\u001b[0m\n",
      "\u001b[0;31mValueError\u001b[0m: 'PLEC_IndexS' is not in list",
      "\nDuring handling of the above exception, another exception occurred:\n",
      "\u001b[0;31mKeyError\u001b[0m                                  Traceback (most recent call last)",
      "\u001b[0;32m/var/folders/_v/k5nhpxp10m735f6vlb1r38br0000gp/T/ipykernel_5883/1017468281.py\u001b[0m in \u001b[0;36m<module>\u001b[0;34m\u001b[0m\n\u001b[0;32m----> 1\u001b[0;31m \u001b[0mgll_psc_v29\u001b[0m\u001b[0;34m[\u001b[0m\u001b[0;36m1\u001b[0m\u001b[0;34m]\u001b[0m\u001b[0;34m.\u001b[0m\u001b[0mdata\u001b[0m\u001b[0;34m.\u001b[0m\u001b[0mcolumns\u001b[0m\u001b[0;34m[\u001b[0m\u001b[0;34m'PLEC_IndexS'\u001b[0m\u001b[0;34m]\u001b[0m\u001b[0;34m.\u001b[0m\u001b[0mname\u001b[0m \u001b[0;34m=\u001b[0m \u001b[0;34m'PLEC_Index'\u001b[0m\u001b[0;34m\u001b[0m\u001b[0;34m\u001b[0m\u001b[0m\n\u001b[0m\u001b[1;32m      2\u001b[0m \u001b[0mgll_psc_v29\u001b[0m\u001b[0;34m[\u001b[0m\u001b[0;36m1\u001b[0m\u001b[0;34m]\u001b[0m\u001b[0;34m.\u001b[0m\u001b[0mdata\u001b[0m\u001b[0;34m.\u001b[0m\u001b[0mcolumns\u001b[0m\u001b[0;34m[\u001b[0m\u001b[0;34m'Unc_PLEC_IndexS'\u001b[0m\u001b[0;34m]\u001b[0m\u001b[0;34m.\u001b[0m\u001b[0mname\u001b[0m \u001b[0;34m=\u001b[0m \u001b[0;34m'Unc_PLEC_Index'\u001b[0m\u001b[0;34m\u001b[0m\u001b[0;34m\u001b[0m\u001b[0m\n\u001b[1;32m      3\u001b[0m \u001b[0mgll_psc_v29\u001b[0m\u001b[0;34m[\u001b[0m\u001b[0;36m1\u001b[0m\u001b[0;34m]\u001b[0m\u001b[0;34m.\u001b[0m\u001b[0mdata\u001b[0m\u001b[0;34m.\u001b[0m\u001b[0mcolumns\u001b[0m\u001b[0;34m[\u001b[0m\u001b[0;34m'PLEC_ExpfactorS'\u001b[0m\u001b[0;34m]\u001b[0m\u001b[0;34m.\u001b[0m\u001b[0mname\u001b[0m \u001b[0;34m=\u001b[0m \u001b[0;34m'PLEC_Expfactor'\u001b[0m\u001b[0;34m\u001b[0m\u001b[0;34m\u001b[0m\u001b[0m\n\u001b[1;32m      4\u001b[0m \u001b[0mgll_psc_v29\u001b[0m\u001b[0;34m[\u001b[0m\u001b[0;36m1\u001b[0m\u001b[0;34m]\u001b[0m\u001b[0;34m.\u001b[0m\u001b[0mdata\u001b[0m\u001b[0;34m.\u001b[0m\u001b[0mcolumns\u001b[0m\u001b[0;34m[\u001b[0m\u001b[0;34m'Unc_PLEC_ExpfactorS'\u001b[0m\u001b[0;34m]\u001b[0m\u001b[0;34m.\u001b[0m\u001b[0mname\u001b[0m \u001b[0;34m=\u001b[0m \u001b[0;34m'Unc_PLEC_Expfactor'\u001b[0m\u001b[0;34m\u001b[0m\u001b[0;34m\u001b[0m\u001b[0m\n",
      "\u001b[0;32m~/anaconda3/envs/fermi/lib/python3.7/site-packages/astropy/io/fits/column.py\u001b[0m in \u001b[0;36m__getitem__\u001b[0;34m(self, key)\u001b[0m\n\u001b[1;32m   1614\u001b[0m     \u001b[0;32mdef\u001b[0m \u001b[0m__getitem__\u001b[0m\u001b[0;34m(\u001b[0m\u001b[0mself\u001b[0m\u001b[0;34m,\u001b[0m \u001b[0mkey\u001b[0m\u001b[0;34m)\u001b[0m\u001b[0;34m:\u001b[0m\u001b[0;34m\u001b[0m\u001b[0;34m\u001b[0m\u001b[0m\n\u001b[1;32m   1615\u001b[0m         \u001b[0;32mif\u001b[0m \u001b[0misinstance\u001b[0m\u001b[0;34m(\u001b[0m\u001b[0mkey\u001b[0m\u001b[0;34m,\u001b[0m \u001b[0mstr\u001b[0m\u001b[0;34m)\u001b[0m\u001b[0;34m:\u001b[0m\u001b[0;34m\u001b[0m\u001b[0;34m\u001b[0m\u001b[0m\n\u001b[0;32m-> 1616\u001b[0;31m             \u001b[0mkey\u001b[0m \u001b[0;34m=\u001b[0m \u001b[0m_get_index\u001b[0m\u001b[0;34m(\u001b[0m\u001b[0mself\u001b[0m\u001b[0;34m.\u001b[0m\u001b[0mnames\u001b[0m\u001b[0;34m,\u001b[0m \u001b[0mkey\u001b[0m\u001b[0;34m)\u001b[0m\u001b[0;34m\u001b[0m\u001b[0;34m\u001b[0m\u001b[0m\n\u001b[0m\u001b[1;32m   1617\u001b[0m \u001b[0;34m\u001b[0m\u001b[0m\n\u001b[1;32m   1618\u001b[0m         \u001b[0mx\u001b[0m \u001b[0;34m=\u001b[0m \u001b[0mself\u001b[0m\u001b[0;34m.\u001b[0m\u001b[0mcolumns\u001b[0m\u001b[0;34m[\u001b[0m\u001b[0mkey\u001b[0m\u001b[0;34m]\u001b[0m\u001b[0;34m\u001b[0m\u001b[0;34m\u001b[0m\u001b[0m\n",
      "\u001b[0;32m~/anaconda3/envs/fermi/lib/python3.7/site-packages/astropy/io/fits/column.py\u001b[0m in \u001b[0;36m_get_index\u001b[0;34m(names, key)\u001b[0m\n\u001b[1;32m   2016\u001b[0m                 \u001b[0mindx\u001b[0m \u001b[0;34m=\u001b[0m \u001b[0mnames\u001b[0m\u001b[0;34m.\u001b[0m\u001b[0mindex\u001b[0m\u001b[0;34m(\u001b[0m\u001b[0m_key\u001b[0m\u001b[0;34m)\u001b[0m\u001b[0;34m\u001b[0m\u001b[0;34m\u001b[0m\u001b[0m\n\u001b[1;32m   2017\u001b[0m             \u001b[0;32melif\u001b[0m \u001b[0mcount\u001b[0m \u001b[0;34m==\u001b[0m \u001b[0;36m0\u001b[0m\u001b[0;34m:\u001b[0m\u001b[0;34m\u001b[0m\u001b[0;34m\u001b[0m\u001b[0m\n\u001b[0;32m-> 2018\u001b[0;31m                 \u001b[0;32mraise\u001b[0m \u001b[0mKeyError\u001b[0m\u001b[0;34m(\u001b[0m\u001b[0;34m\"Key '{}' does not exist.\"\u001b[0m\u001b[0;34m.\u001b[0m\u001b[0mformat\u001b[0m\u001b[0;34m(\u001b[0m\u001b[0mkey\u001b[0m\u001b[0;34m)\u001b[0m\u001b[0;34m)\u001b[0m\u001b[0;34m\u001b[0m\u001b[0;34m\u001b[0m\u001b[0m\n\u001b[0m\u001b[1;32m   2019\u001b[0m             \u001b[0;32melse\u001b[0m\u001b[0;34m:\u001b[0m              \u001b[0;31m# multiple match\u001b[0m\u001b[0;34m\u001b[0m\u001b[0;34m\u001b[0m\u001b[0m\n\u001b[1;32m   2020\u001b[0m                 \u001b[0;32mraise\u001b[0m \u001b[0mKeyError\u001b[0m\u001b[0;34m(\u001b[0m\u001b[0;34m\"Ambiguous key name '{}'.\"\u001b[0m\u001b[0;34m.\u001b[0m\u001b[0mformat\u001b[0m\u001b[0;34m(\u001b[0m\u001b[0mkey\u001b[0m\u001b[0;34m)\u001b[0m\u001b[0;34m)\u001b[0m\u001b[0;34m\u001b[0m\u001b[0;34m\u001b[0m\u001b[0m\n",
      "\u001b[0;31mKeyError\u001b[0m: \"Key 'PLEC_IndexS' does not exist.\""
     ]
    }
   ],
   "source": [
    "gll_psc_v29[1].data.columns['PLEC_IndexS'].name = 'PLEC_Index'\n",
    "gll_psc_v29[1].data.columns['Unc_PLEC_IndexS'].name = 'Unc_PLEC_Index'\n",
    "gll_psc_v29[1].data.columns['PLEC_ExpfactorS'].name = 'PLEC_Expfactor'\n",
    "gll_psc_v29[1].data.columns['Unc_PLEC_ExpfactorS'].name = 'Unc_PLEC_Expfactor'"
   ]
  },
  {
   "cell_type": "code",
   "execution_count": null,
   "id": "f3e05d56",
   "metadata": {},
   "outputs": [],
   "source": []
  },
  {
   "cell_type": "code",
   "execution_count": 39,
   "id": "e3699b0b",
   "metadata": {},
   "outputs": [],
   "source": [
    "gll_psc_v29.writeto('/Users/songdeheng/Workspace/FermiData/Models/gll_psc_v29_modified.fit', overwrite=True)"
   ]
  }
 ],
 "metadata": {
  "kernelspec": {
   "display_name": "Python 3 (ipykernel)",
   "language": "python",
   "name": "python3"
  },
  "language_info": {
   "codemirror_mode": {
    "name": "ipython",
    "version": 3
   },
   "file_extension": ".py",
   "mimetype": "text/x-python",
   "name": "python",
   "nbconvert_exporter": "python",
   "pygments_lexer": "ipython3",
   "version": "3.7.12"
  }
 },
 "nbformat": 4,
 "nbformat_minor": 5
}
