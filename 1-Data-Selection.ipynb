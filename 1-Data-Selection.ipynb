{
 "cells": [
  {
   "cell_type": "markdown",
   "id": "3c8f57f5",
   "metadata": {},
   "source": [
    "# 0. Using Fermi-LAT All-sky Weekly Data\n"
   ]
  },
  {
   "cell_type": "markdown",
   "id": "02e6e699",
   "metadata": {},
   "source": [
    "https://fermi.gsfc.nasa.gov/ssc/data/analysis/scitools/LAT_weekly_allsky.html"
   ]
  },
  {
   "cell_type": "markdown",
   "id": "8950cd8f",
   "metadata": {},
   "source": [
    "Spacecraft file: \"/work/cascades/dhsong/mission/spacecraft/lat_spacecraft_merged.fits"
   ]
  },
  {
   "cell_type": "markdown",
   "id": "5a67ffe5",
   "metadata": {},
   "source": [
    "# 1. Event Selection with gtselect"
   ]
  },
  {
   "cell_type": "markdown",
   "id": "16dbc024",
   "metadata": {},
   "source": [
    "https://raw.githubusercontent.com/fermi-lat/fermitools-fhelp/master/gtselect.txt\n",
    "\n",
    "Used to make cuts based on columns in the event data file such as time, energy, position, zenith angle, instrument coordinates, event class, and event type (new in Pass 8)."
   ]
  },
  {
   "cell_type": "markdown",
   "id": "bd318368",
   "metadata": {},
   "source": [
    "- Time (tmin, tmax)  \n",
    "    Time Converter: https://heasarc.gsfc.nasa.gov/cgi-bin/Tools/xTime/xTime.pl  \n",
    "    Start: 2008-08-04 15:43:36 UTC; 239557417 (MET)  \n",
    "    4FGL: 2016-08-02 05:44:00 UTC; \t491809444 (MET)  \n",
    "    4FGL-DR2: 2018-08-02 19:13:00 UTC; 554929985 (MET)  \n",
    "    4FGL-DR3: 2020-08-02 08:33:00 UTC; \t618049985 (MET)\n",
    "    \n",
    "    \n",
    "- Energy (emin, emax)  \n",
    "    range: 30 MeV to 10 TeV\n",
    "    default: 100 MeV to 300 GeV\n",
    "    \n",
    "    \n",
    "- Position (ra, dec, rad)  \n",
    "    Coordinate Converter: https://www.astrouw.edu.pl/~jskowron/ra-dec/  \n",
    "    Galactic center: l = 0 deg, b = 0 deg; RA = 266.4050 deg, DEC = -28.9362 deg\n",
    "    \n",
    "    \n",
    "- Event Class (evclass)  \n",
    "    Source: 128 (default)\n",
    "    \n",
    "    \n",
    "- Event Type (evtype)\n",
    "    \n",
    "    \n",
    "- Maximum Zenith Angle (zmax)  \n",
    "    Range: 0  to 180 (default)\n",
    "    \n",
    "- Output event FITS file (outfile)  \n",
    "    \"_filtered.fits\""
   ]
  },
  {
   "cell_type": "code",
   "execution_count": 1,
   "id": "4c02b047",
   "metadata": {},
   "outputs": [],
   "source": [
    "# - Minimum Event class ID (evclsmin)\n",
    "# - Maximum Event class ID (evclsmax)\n",
    "# - Event conversion type ID (convtype)\n",
    "# - Minimum pulse phase (phasemin)\n",
    "# - Maximum pulse phase (phasemax)"
   ]
  },
  {
   "cell_type": "code",
   "execution_count": null,
   "id": "a806829b",
   "metadata": {},
   "outputs": [],
   "source": [
    "%%bash\n",
    "gtselect evclass=128 evtype=3\n",
    "    @./data/events.txt\n",
    "    ./data/GC_region_filtered.fits\n",
    "    193.98\n",
    "    -5.82\n",
    "    20\n",
    "    INDEF\n",
    "    INDEF\n",
    "    100\n",
    "    500000\n",
    "    90\n",
    "\n",
    "#### Parameters:\n",
    "# Input file or files (if multiple files are in a .txt file,\n",
    "#        don't forget the @ symbol)\n",
    "# Output file\n",
    "# RA for new search center\n",
    "# Dec or new search center\n",
    "# Radius of the new search region\n",
    "# Start time (MET in s)\n",
    "# End time (MET in s)\n",
    "# Lower energy limit (MeV)\n",
    "# Upper energy limit (MeV)\n",
    "# Maximum zenith angle value (degrees)"
   ]
  },
  {
   "cell_type": "markdown",
   "id": "27a02ff0",
   "metadata": {},
   "source": [
    "You can also do it with Python."
   ]
  },
  {
   "cell_type": "code",
   "execution_count": null,
   "id": "b9bb9fdc",
   "metadata": {},
   "outputs": [],
   "source": []
  },
  {
   "cell_type": "markdown",
   "id": "b7aae579",
   "metadata": {},
   "source": [
    "# 2. Time Selection with gtmktime"
   ]
  },
  {
   "cell_type": "markdown",
   "id": "03ef83f5",
   "metadata": {},
   "source": [
    "In addition to cutting the selected events, gtmktime makes cuts based on the spacecraft file and updates the Good Time Interval (GTI) extension."
   ]
  },
  {
   "cell_type": "markdown",
   "id": "fbdaa3b2",
   "metadata": {},
   "source": [
    "- Spacecraft file (scfile)\n",
    "\n",
    "\n",
    "- Filter (filter)  \n",
    "    Syntax: ! (not), && (and), || (or), != (different), >, <, >=, <=, abs(), cos(), sin(), etc.  \n",
    "    Recommended: (DATA_QUAL>0)&&(LAT_CONFIG==1)\n",
    "    \n",
    "    \n",
    "- Apply ROI-based zenith angle cut (roicut)  \n",
    "    It is recommended tp apply the zenith cut to the livetime calculation while running gtltcube, not here.\n",
    "    \n",
    "\n",
    "- Input event file (evfile)  \n",
    "    Output from gtselect\n",
    "\n",
    "    \n",
    "- Output event FITS file (outfile)  \n",
    "    \"_gti.fits\""
   ]
  },
  {
   "cell_type": "code",
   "execution_count": null,
   "id": "f48be756",
   "metadata": {},
   "outputs": [],
   "source": [
    "%%bash\n",
    "gtmktime\n",
    "    ./data/spacecraft.fits\n",
    "    (DATA_QUAL>0)&&(LAT_CONFIG==1)\n",
    "    no\n",
    "    ./data/3C279_region_filtered.fits\n",
    "    ./data/3C279_region_filtered_gti.fits\n",
    "    \n",
    "#### Parameters specified above are:\n",
    "# Spacecraft file\n",
    "# Filter expression\n",
    "# Apply ROI-based zenith angle cut\n",
    "# Event data file\n",
    "# Output event file name"
   ]
  },
  {
   "cell_type": "code",
   "execution_count": null,
   "id": "0f0acf9c",
   "metadata": {},
   "outputs": [],
   "source": []
  },
  {
   "cell_type": "code",
   "execution_count": null,
   "id": "746fda00",
   "metadata": {},
   "outputs": [],
   "source": []
  },
  {
   "cell_type": "code",
   "execution_count": null,
   "id": "e7904531",
   "metadata": {},
   "outputs": [],
   "source": []
  }
 ],
 "metadata": {
  "kernelspec": {
   "display_name": "Python 3",
   "language": "python",
   "name": "python3"
  },
  "language_info": {
   "codemirror_mode": {
    "name": "ipython",
    "version": 3
   },
   "file_extension": ".py",
   "mimetype": "text/x-python",
   "name": "python",
   "nbconvert_exporter": "python",
   "pygments_lexer": "ipython3",
   "version": "3.7.10"
  }
 },
 "nbformat": 4,
 "nbformat_minor": 5
}
