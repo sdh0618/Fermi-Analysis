{
 "cells": [
  {
   "cell_type": "code",
   "execution_count": 9,
   "id": "06974c71",
   "metadata": {},
   "outputs": [],
   "source": [
    "import numpy as np\n",
    "from astropy.io import fits\n",
    "from matplotlib import pyplot as plt"
   ]
  },
  {
   "cell_type": "code",
   "execution_count": 3,
   "id": "b9bb9fdc",
   "metadata": {},
   "outputs": [],
   "source": [
    "import gt_apps as my_apps"
   ]
  },
  {
   "cell_type": "code",
   "execution_count": 4,
   "id": "805eb946",
   "metadata": {},
   "outputs": [
    {
     "name": "stdout",
     "output_type": "stream",
     "text": [
      "Help on module gt_apps:\n",
      "\n",
      "NAME\n",
      "    gt_apps - This module uses GtApp to wraps the Science Tools as python objects.\n",
      "\n",
      "DATA\n",
      "    TsMap = <GtApp.GtApp object>\n",
      "    addCubes = <GtApp.GtApp object>\n",
      "    counts_map = <GtApp.GtApp object>\n",
      "    diffResps = <GtApp.GtApp object>\n",
      "    evtbin = <GtApp.GtApp object>\n",
      "    expCube = <GtApp.GtApp object>\n",
      "    expMap = <GtApp.GtApp object>\n",
      "    filter = <GtApp.GtApp object>\n",
      "    gtexpcube2 = <GtApp.GtApp object>\n",
      "    like = <GtApp.GtApp object>\n",
      "    maketime = <GtApp.GtApp object>\n",
      "    model_map = <GtApp.GtApp object>\n",
      "    obsSim = <GtApp.GtApp object>\n",
      "    rspgen = <GtApp.GtApp object>\n",
      "    srcMaps = <GtApp.GtApp object>\n",
      "\n",
      "FILE\n",
      "    /home/dhsong/anaconda3/envs/fermipy/lib/python3.7/site-packages/fermitools/gt_apps.py\n",
      "\n",
      "\n"
     ]
    }
   ],
   "source": [
    "help(my_apps)"
   ]
  },
  {
   "cell_type": "markdown",
   "id": "3c8f57f5",
   "metadata": {},
   "source": [
    "# 0. Using Fermi-LAT All-sky Weekly Data\n"
   ]
  },
  {
   "cell_type": "markdown",
   "id": "02e6e699",
   "metadata": {},
   "source": [
    "https://fermi.gsfc.nasa.gov/ssc/data/analysis/scitools/LAT_weekly_allsky.html"
   ]
  },
  {
   "cell_type": "markdown",
   "id": "930ac978",
   "metadata": {},
   "source": [
    "Spacecraft file: \"/work/cascades/dhsong/mission/spacecraft/lat_spacecraft_merged.fits\"  \n",
    "Photon data: \"/work/cascades/dhsong/weekly/photon/filelist.txt\"  \n",
    "Extended data: \"/work/cascades/dhsong/weekly/extended/filelist.txt\""
   ]
  },
  {
   "cell_type": "markdown",
   "id": "5a67ffe5",
   "metadata": {},
   "source": [
    "# 1. Event Selection with gtselect"
   ]
  },
  {
   "cell_type": "markdown",
   "id": "16dbc024",
   "metadata": {},
   "source": [
    "https://raw.githubusercontent.com/fermi-lat/fermitools-fhelp/master/gtselect.txt\n",
    "\n",
    "Used to make cuts based on columns in the event data file such as time, energy, position, zenith angle, instrument coordinates, event class, and event type (new in Pass 8)."
   ]
  },
  {
   "cell_type": "markdown",
   "id": "bd318368",
   "metadata": {},
   "source": [
    "- Time (tmin, tmax)  \n",
    "    Time Converter: https://heasarc.gsfc.nasa.gov/cgi-bin/Tools/xTime/xTime.pl  \n",
    "    Start: 2008-08-04 15:43:36 UTC; 239557417 (MET)  \n",
    "    4FGL: 2016-08-02 05:44:00 UTC; \t491809444 (MET)  \n",
    "    4FGL-DR2: 2018-08-02 19:13:00 UTC; 554929985 (MET)  \n",
    "    4FGL-DR3: 2020-08-02 08:33:00 UTC; \t618049985 (MET)\n",
    "    \n",
    "    \n",
    "- Energy (emin, emax)  \n",
    "    range: 30 MeV to 10 TeV  \n",
    "    default: 100 MeV to 300 GeV\n",
    "    \n",
    "    \n",
    "- Position (ra, dec, rad)  \n",
    "    Coordinate Converter: https://www.astrouw.edu.pl/~jskowron/ra-dec/  \n",
    "    Galactic center: l = 0 deg, b = 0 deg; RA = 266.4050 deg, DEC = -28.9362 deg\n",
    "    \n",
    "    \n",
    "- Event Class (evclass)  \n",
    "    Source: 128 (default)\n",
    "    \n",
    "    \n",
    "- Event Type (evtype)\n",
    "    \n",
    "    \n",
    "- Maximum Zenith Angle (zmax)  \n",
    "    Range: 0  to 180 (default)\n",
    "    \n",
    "- Output event FITS file (outfile)  \n",
    "    \"_filtered.fits\""
   ]
  },
  {
   "cell_type": "code",
   "execution_count": 1,
   "id": "4c02b047",
   "metadata": {},
   "outputs": [],
   "source": [
    "# - Minimum Event class ID (evclsmin)\n",
    "# - Maximum Event class ID (evclsmax)\n",
    "# - Event conversion type ID (convtype)\n",
    "# - Minimum pulse phase (phasemin)\n",
    "# - Maximum pulse phase (phasemax)"
   ]
  },
  {
   "cell_type": "code",
   "execution_count": 3,
   "id": "a806829b",
   "metadata": {},
   "outputs": [
    {
     "name": "stdout",
     "output_type": "stream",
     "text": [
      "Input FT1 file[@/work/cascades/dhsong/weekly/photon/filelist.txt]     @/work/cascades/dhsong/weekly/photon/filelist.txt\n",
      "Output FT1 file[./temp/GC_20x20_filtered.fits]     ./temp/GC_20x20_filtered.fits \r",
      "\u001b[A\u001b[C\u001b[C\u001b[C\u001b[C\u001b[C\u001b[C\u001b[C\u001b[C\u001b[C\u001b[C\u001b[C\u001b[C\u001b[C\u001b[C\u001b[C\u001b[C\u001b[C\u001b[C\u001b[C\u001b[C\u001b[C\u001b[C\u001b[C\u001b[C\u001b[C\u001b[C\u001b[C\u001b[C\u001b[C\u001b[C\u001b[C\u001b[C\u001b[C\u001b[C\u001b[C\u001b[C\u001b[C\u001b[C\u001b[C\u001b[C\u001b[C\u001b[C\u001b[C\u001b[C\u001b[C\u001b[C\u001b[C\u001b[C\u001b[C\u001b[C\u001b[C\u001b[C\u001b[C\u001b[C\u001b[C\u001b[C\u001b[C\u001b[C\u001b[C\u001b[C\u001b[C\u001b[C\u001b[C\u001b[C\u001b[C\u001b[C\u001b[C\u001b[C\u001b[C\u001b[C\u001b[C\u001b[C\u001b[C\u001b[C\u001b[C\u001b[C\u001b[C\u001b[C\u001b[C\u001b[Ks\n",
      "RA for new search center (degrees) (0:360) [266.405]     266.4050\n",
      "Dec for new search center (degrees) (-90:90) [-28.9362]     -28.9362\n",
      "radius of new search region (degrees) (0:180) [20]     20\n",
      "start time (MET in s) (0:) [239557417]     239557417\n",
      "end time (MET in s) (0:) [618049985]     618049985\n",
      "lower energy limit (MeV) (0:) [100]     100\n",
      "upper energy limit (MeV) (0:) [500000]     500000\n",
      "maximum zenith angle value (degrees) (0:180) [90]     90\n",
      "Done.\n"
     ]
    }
   ],
   "source": [
    "%%bash\n",
    "gtselect evclass=128 evtype=3\n",
    "    @/work/cascades/dhsong/weekly/photon/filelist.txt\n",
    "    ./temp/GC_20x20_filtered.fits\n",
    "    266.4050\n",
    "    -28.9362\n",
    "    20\n",
    "    239557417\n",
    "    618049985\n",
    "    100\n",
    "    500000\n",
    "    90\n",
    "\n",
    "#### Parameters:\n",
    "# Input file or files (if multiple files are in a .txt file,\n",
    "#        don't forget the @ symbol)\n",
    "# Output file\n",
    "# RA for new search center\n",
    "# Dec or new search center\n",
    "# Radius of the new search region\n",
    "# Start time (MET in s)\n",
    "# End time (MET in s)\n",
    "# Lower energy limit (MeV)\n",
    "# Upper energy limit (MeV)\n",
    "# Maximum zenith angle value (degrees)"
   ]
  },
  {
   "cell_type": "markdown",
   "id": "27a02ff0",
   "metadata": {},
   "source": [
    "You can also do it with Python."
   ]
  },
  {
   "cell_type": "code",
   "execution_count": 6,
   "id": "d6fcb1b5",
   "metadata": {},
   "outputs": [],
   "source": [
    "my_apps.filter['evclass'] = 128\n",
    "my_apps.filter['evtype'] = 3\n",
    "my_apps.filter['ra'] = 266.4050\n",
    "my_apps.filter['dec'] = -28.9362\n",
    "my_apps.filter['rad'] = 20\n",
    "my_apps.filter['emin'] = 100\n",
    "my_apps.filter['emax'] = 500000\n",
    "my_apps.filter['zmax'] = 90\n",
    "my_apps.filter['tmin'] = 239557417\n",
    "my_apps.filter['tmax'] = 618049985\n",
    "my_apps.filter['infile'] = '@/work/cascades/dhsong/weekly/photon/filelist.txt'\n",
    "my_apps.filter['outfile'] = './temp/py_GC_20x20_filtered.fits'"
   ]
  },
  {
   "cell_type": "code",
   "execution_count": 7,
   "id": "a4b5f9ba",
   "metadata": {},
   "outputs": [
    {
     "data": {
      "text/plain": [
       "'time -p gtselect infile=@/work/cascades/dhsong/weekly/photon/filelist.txt outfile=./temp/py_GC_20x20_filtered.fits ra=266.405 dec=-28.9362 rad=20.0 tmin=239557417.0 tmax=618049985.0 emin=100.0 emax=500000.0 zmin=0.0 zmax=90.0 evclass=128 evtype=3 convtype=-1 phasemin=0.0 phasemax=1.0 evtable=\"EVENTS\" chatter=2 clobber=yes debug=no gui=no mode=\"ql\"'"
      ]
     },
     "execution_count": 7,
     "metadata": {},
     "output_type": "execute_result"
    }
   ],
   "source": [
    "my_apps.filter.command()"
   ]
  },
  {
   "cell_type": "code",
   "execution_count": 8,
   "id": "ebf557b4",
   "metadata": {},
   "outputs": [
    {
     "name": "stdout",
     "output_type": "stream",
     "text": [
      "time -p gtselect infile=@/work/cascades/dhsong/weekly/photon/filelist.txt outfile=./temp/py_GC_20x20_filtered.fits ra=266.405 dec=-28.9362 rad=20.0 tmin=239557417.0 tmax=618049985.0 emin=100.0 emax=500000.0 zmin=0.0 zmax=90.0 evclass=128 evtype=3 convtype=-1 phasemin=0.0 phasemax=1.0 evtable=\"EVENTS\" chatter=2 clobber=yes debug=no gui=no mode=\"ql\"\n",
      "Done.\n",
      "real 2486.05\n",
      "user 1726.04\n",
      "sys 178.90\n"
     ]
    }
   ],
   "source": [
    "my_apps.filter.run()"
   ]
  },
  {
   "cell_type": "code",
   "execution_count": 7,
   "id": "0920c552",
   "metadata": {},
   "outputs": [],
   "source": [
    "GC_20x20_filtered = fits.open('./temp/GC_20x20_filtered.fits')"
   ]
  },
  {
   "cell_type": "code",
   "execution_count": 8,
   "id": "3e62d812",
   "metadata": {},
   "outputs": [
    {
     "name": "stdout",
     "output_type": "stream",
     "text": [
      "Filename: ./temp/GC_20x20_filtered.fits\n",
      "No.    Name      Ver    Type      Cards   Dimensions   Format\n",
      "  0  PRIMARY       1 PrimaryHDU      31   ()      \n",
      "  1  EVENTS        1 BinTableHDU    224   25402262R x 23C   [E, E, E, E, E, E, E, E, E, D, J, J, I, 3I, 32X, 32X, I, D, E, E, E, E, E]   \n",
      "  2  GTI           1 BinTableHDU     46   67012R x 2C   [D, D]   \n"
     ]
    }
   ],
   "source": [
    "GC_20x20_filtered.info()"
   ]
  },
  {
   "cell_type": "markdown",
   "id": "b7aae579",
   "metadata": {},
   "source": [
    "# 2. Time Selection with gtmktime"
   ]
  },
  {
   "cell_type": "markdown",
   "id": "03ef83f5",
   "metadata": {},
   "source": [
    "In addition to cutting the selected events, gtmktime makes cuts based on the spacecraft file and updates the Good Time Interval (GTI) extension."
   ]
  },
  {
   "cell_type": "markdown",
   "id": "fbdaa3b2",
   "metadata": {},
   "source": [
    "- Spacecraft file (scfile)\n",
    "\n",
    "\n",
    "- Filter (filter)  \n",
    "    Syntax: ! (not), && (and), || (or), != (different), >, <, >=, <=, abs(), cos(), sin(), etc.  \n",
    "    Recommended: (DATA_QUAL>0)&&(LAT_CONFIG==1)\n",
    "    \n",
    "    \n",
    "- Apply ROI-based zenith angle cut (roicut)  \n",
    "    It is recommended tp apply the zenith cut to the livetime calculation while running gtltcube, not here.\n",
    "    \n",
    "\n",
    "- Input event file (evfile)  \n",
    "    Output from gtselect\n",
    "\n",
    "    \n",
    "- Output event FITS file (outfile)  \n",
    "    \"_gti.fits\""
   ]
  },
  {
   "cell_type": "markdown",
   "id": "b4875602",
   "metadata": {},
   "source": [
    "With command line:"
   ]
  },
  {
   "cell_type": "code",
   "execution_count": 2,
   "id": "f48be756",
   "metadata": {},
   "outputs": [
    {
     "name": "stdout",
     "output_type": "stream",
     "text": [
      "Spacecraft data file[/work/cascades/dhsong/mission/spacecraft/lat_spacecraft_merged.fits]     /work/cascades/dhsong/mission/spacecraft/lat_spacecraft_merged.fits\n",
      "Filter expression[(DATA_QUAL>0)&&(LAT_CONFIG==1)]     (DATA_QUAL>0)&&(LAT_CONFIG==1)\n",
      "Apply ROI-based zenith angle cut[no]     no\n",
      "Event data file[./temp/GC_20x20_filtered.fits]     ./temp/GC_20x20_filtered.fits \r",
      "\u001b[A\u001b[C\u001b[C\u001b[C\u001b[C\u001b[C\u001b[C\u001b[C\u001b[C\u001b[C\u001b[C\u001b[C\u001b[C\u001b[C\u001b[C\u001b[C\u001b[C\u001b[C\u001b[C\u001b[C\u001b[C\u001b[C\u001b[C\u001b[C\u001b[C\u001b[C\u001b[C\u001b[C\u001b[C\u001b[C\u001b[C\u001b[C\u001b[C\u001b[C\u001b[C\u001b[C\u001b[C\u001b[C\u001b[C\u001b[C\u001b[C\u001b[C\u001b[C\u001b[C\u001b[C\u001b[C\u001b[C\u001b[C\u001b[C\u001b[C\u001b[C\u001b[C\u001b[C\u001b[C\u001b[C\u001b[C\u001b[C\u001b[C\u001b[C\u001b[C\u001b[C\u001b[C\u001b[C\u001b[C\u001b[C\u001b[C\u001b[C\u001b[C\u001b[C\u001b[C\u001b[C\u001b[C\u001b[C\u001b[C\u001b[C\u001b[C\u001b[C\u001b[C\u001b[C\u001b[C\u001b[Ks\n",
      "Output event file name[./temp/GC_20x20_filtered_gti.fits]     ./temp/GC_20x20_filtered_gti.fits\n"
     ]
    }
   ],
   "source": [
    "%%bash\n",
    "gtmktime\n",
    "    /work/cascades/dhsong/mission/spacecraft/lat_spacecraft_merged.fits\n",
    "    (DATA_QUAL>0)&&(LAT_CONFIG==1)\n",
    "    no\n",
    "    ./temp/GC_20x20_filtered.fits\n",
    "    ./temp/GC_20x20_filtered_gti.fits\n",
    "    \n",
    "#### Parameters specified above are:\n",
    "# Spacecraft file\n",
    "# Filter expression\n",
    "# Apply ROI-based zenith angle cut\n",
    "# Event data file\n",
    "# Output event file name"
   ]
  },
  {
   "cell_type": "markdown",
   "id": "ea0c3288",
   "metadata": {},
   "source": [
    "With python:"
   ]
  },
  {
   "cell_type": "code",
   "execution_count": 6,
   "id": "0f0acf9c",
   "metadata": {},
   "outputs": [
    {
     "name": "stdout",
     "output_type": "stream",
     "text": [
      "time -p gtmktime scfile=/work/cascades/dhsong/mission/spacecraft/lat_spacecraft_merged.fits sctable=\"SC_DATA\" filter=\"(DATA_QUAL>0)&&(LAT_CONFIG==1)\" roicut=no evfile=./temp/py_GC_20x20_filtered.fits evtable=\"EVENTS\" outfile=\"./temp/py_GC_20x20_filtered_gti.fits\" apply_filter=yes overwrite=no header_obstimes=yes tstart=0.0 tstop=0.0 gtifile=\"default\" chatter=2 clobber=yes debug=no gui=no mode=\"ql\"\n",
      "real 491.65\n",
      "user 454.10\n",
      "sys 14.65\n"
     ]
    }
   ],
   "source": [
    "my_apps.maketime['scfile'] = '/work/cascades/dhsong/mission/spacecraft/lat_spacecraft_merged.fits'\n",
    "my_apps.maketime['filter'] = '(DATA_QUAL>0)&&(LAT_CONFIG==1)'\n",
    "my_apps.maketime['roicut'] = 'no'\n",
    "my_apps.maketime['evfile'] = './temp/py_GC_20x20_filtered.fits'\n",
    "my_apps.maketime['outfile'] = './temp/py_GC_20x20_filtered_gti.fits'"
   ]
  },
  {
   "cell_type": "code",
   "execution_count": null,
   "id": "746fda00",
   "metadata": {},
   "outputs": [],
   "source": [
    "my_apps.maketime.run()"
   ]
  },
  {
   "cell_type": "code",
   "execution_count": 10,
   "id": "e7904531",
   "metadata": {},
   "outputs": [],
   "source": [
    "GC_20x20_filtered_gti = fits.open('./temp/GC_20x20_filtered_gti.fits')"
   ]
  },
  {
   "cell_type": "code",
   "execution_count": 11,
   "id": "2ffc96bb",
   "metadata": {},
   "outputs": [
    {
     "name": "stdout",
     "output_type": "stream",
     "text": [
      "Filename: ./temp/GC_20x20_filtered_gti.fits\n",
      "No.    Name      Ver    Type      Cards   Dimensions   Format\n",
      "  0  PRIMARY       1 PrimaryHDU      31   ()      \n",
      "  1  EVENTS        1 BinTableHDU    227   25309187R x 23C   [E, E, E, E, E, E, E, E, E, D, J, J, I, 3I, 32X, 32X, I, D, E, E, E, E, E]   \n",
      "  2  GTI           1 BinTableHDU     46   66861R x 2C   [D, D]   \n"
     ]
    }
   ],
   "source": [
    "GC_20x20_filtered_gti.info()"
   ]
  },
  {
   "cell_type": "markdown",
   "id": "920389c1",
   "metadata": {},
   "source": [
    "# 3. Binning the Data"
   ]
  },
  {
   "cell_type": "markdown",
   "id": "129eb334",
   "metadata": {},
   "source": [
    "You can use gtbin to bin photon data into the following representations:  \n",
    "Images (maps)  \n",
    "Light curves  \n",
    "Energy spectra (PHA files)"
   ]
  },
  {
   "cell_type": "markdown",
   "id": "8e245f23",
   "metadata": {},
   "source": [
    "With command line:"
   ]
  },
  {
   "cell_type": "code",
   "execution_count": 12,
   "id": "9315d7fe",
   "metadata": {},
   "outputs": [
    {
     "name": "stdout",
     "output_type": "stream",
     "text": [
      "This is gtbin version HEAD\n",
      "Type of output file (CCUBE|CMAP|LC|PHA1|PHA2|HEALPIX) [PHA2]     CMAP\n",
      "Event data file name[]     ./temp/py_GC_20x20_filtered_gti.fits\n",
      "Output file name[]     ./temp/py_GC_20x20_cmap.fits\n",
      "Spacecraft data file name[NONE]     /work/cascades/dhsong/mission/spacecraft/lat_spacecraft_merged.fits\n",
      "Size of the X axis in pixels[]     400\n",
      "Size of the Y axis in pixels[]     400\n",
      "Image scale (in degrees/pixel)[]     0.1\n",
      "Coordinate system (CEL - celestial, GAL -galactic) (CEL|GAL) [CEL]     CEL\n",
      "First coordinate of image center in degrees (RA or galactic l)[]     266.4050\n",
      "Second coordinate of image center in degrees (DEC or galactic b)[]     -28.9362\n",
      "Rotation angle of image axis, in degrees[0.]     0\n",
      "Projection method e.g. AIT|ARC|CAR|GLS|MER|NCP|SIN|STG|TAN:[AIT]     AIT\n"
     ]
    }
   ],
   "source": [
    "%%bash\n",
    "gtbin\n",
    "    CMAP\n",
    "    ./temp/GC_20x20_filtered_gti.fits\n",
    "    ./temp/GC_20x20_cmap.fits\n",
    "    /work/cascades/dhsong/mission/spacecraft/lat_spacecraft_merged.fits\n",
    "    400\n",
    "    400\n",
    "    0.1\n",
    "    CEL\n",
    "    266.4050\n",
    "    -28.9362\n",
    "    0\n",
    "    AIT\n",
    "\n",
    "#### Parameters:\n",
    "# Type of output file (CCUBE|CMAP|LC|PHA1|PHA2)\n",
    "# Event data file name\n",
    "# Output file name\n",
    "# Spacecraft data file name [NONE is valid]\n",
    "# Size of the X axis in pixels\n",
    "# Size of the Y axis in pixels\n",
    "# Image scale (in degrees/pixel)\n",
    "# Coordinate system (CEL - celestial, GAL -galactic) (CEL|GAL)\n",
    "# First coordinate of image center in degrees (RA or galactic l)\n",
    "# Second coordinate of image center in degrees (DEC or galactic b)\n",
    "# Rotation angle of image axis, in degrees\n",
    "# Projection method e.g. AIT|ARC|CAR|GLS|MER|NCP|SIN|STG|TAN\n",
    "#\n",
    "# For strange reasons, gtbin cannot be run with the ! magic; instead, we use the %%bash magic."
   ]
  },
  {
   "cell_type": "markdown",
   "id": "ad7443a5",
   "metadata": {},
   "source": [
    "With python (also in GAL coordinates):"
   ]
  },
  {
   "cell_type": "code",
   "execution_count": 28,
   "id": "0d21c786",
   "metadata": {},
   "outputs": [],
   "source": [
    "my_apps.evtbin['algorithm'] = 'CMAP'\n",
    "my_apps.evtbin['evfile'] = './temp/py_GC_20x20_filtered_gti.fits'\n",
    "my_apps.evtbin['outfile'] = './temp/py_GC_20x20_cmap.fits'\n",
    "my_apps.evtbin['scfile'] = '/work/cascades/dhsong/mission/spacecraft/lat_spacecraft_merged.fits'\n",
    "my_apps.evtbin['nxpix'] = 400\n",
    "my_apps.evtbin['nypix'] = 400\n",
    "my_apps.evtbin['binsz'] = 0.1\n",
    "my_apps.evtbin['xref'] = 0\n",
    "my_apps.evtbin['yref'] = 0\n",
    "my_apps.evtbin['axisrot'] = 0\n",
    "my_apps.evtbin['proj'] = 'AIT'\n",
    "my_apps.evtbin['coordsys'] = 'GAL'"
   ]
  },
  {
   "cell_type": "code",
   "execution_count": 29,
   "id": "36849ae4",
   "metadata": {},
   "outputs": [
    {
     "name": "stdout",
     "output_type": "stream",
     "text": [
      "time -p gtbin evfile=./temp/py_GC_20x20_filtered_gti.fits scfile=/work/cascades/dhsong/mission/spacecraft/lat_spacecraft_merged.fits outfile=./temp/py_GC_20x20_cmap.fits algorithm=\"CMAP\" ebinalg=\"LOG\" emin=30.0 emax=200000.0 ebinfile=NONE tbinalg=\"LIN\" tbinfile=NONE nxpix=400 nypix=400 binsz=0.1 coordsys=\"GAL\" xref=0.0 yref=0.0 axisrot=0.0 rafield=\"RA\" decfield=\"DEC\" proj=\"AIT\" hpx_ordering_scheme=\"RING\" hpx_order=3 hpx_ebin=yes hpx_region=\"\" evtable=\"EVENTS\" sctable=\"SC_DATA\" efield=\"ENERGY\" tfield=\"TIME\" chatter=2 clobber=yes debug=no gui=no mode=\"ql\"\n",
      "This is gtbin version HEAD\n",
      "real 33.53\n",
      "user 30.67\n",
      "sys 2.26\n"
     ]
    }
   ],
   "source": [
    "my_apps.evtbin.run()"
   ]
  },
  {
   "cell_type": "code",
   "execution_count": 22,
   "id": "a7d98f01",
   "metadata": {},
   "outputs": [],
   "source": [
    "GC_20x20_cmap = fits.open('./temp/GC_20x20_cmap.fits')"
   ]
  },
  {
   "cell_type": "code",
   "execution_count": 23,
   "id": "6ca20b15",
   "metadata": {},
   "outputs": [
    {
     "name": "stdout",
     "output_type": "stream",
     "text": [
      "Filename: ./temp/GC_20x20_cmap.fits\n",
      "No.    Name      Ver    Type      Cards   Dimensions   Format\n",
      "  0  PRIMARY       1 PrimaryHDU     130   (400, 400)   int32   \n",
      "  1  GTI           1 BinTableHDU     48   66861R x 2C   [D, D]   \n"
     ]
    }
   ],
   "source": [
    "GC_20x20_cmap.info()"
   ]
  },
  {
   "cell_type": "code",
   "execution_count": 27,
   "id": "07a633ad",
   "metadata": {},
   "outputs": [
    {
     "name": "stderr",
     "output_type": "stream",
     "text": [
      "/home/dhsong/anaconda3/envs/fermipy/lib/python3.7/site-packages/ipykernel_launcher.py:1: RuntimeWarning: divide by zero encountered in log10\n",
      "  \"\"\"Entry point for launching an IPython kernel.\n"
     ]
    },
    {
     "data": {
      "text/plain": [
       "<matplotlib.colorbar.Colorbar at 0x7fdcaea1e310>"
      ]
     },
     "execution_count": 27,
     "metadata": {},
     "output_type": "execute_result"
    },
    {
     "data": {
      "image/png": "[encoded data removed]",
      "text/plain": [
       "<Figure size 432x288 with 2 Axes>"
      ]
     },
     "metadata": {
      "needs_background": "light"
     },
     "output_type": "display_data"
    }
   ],
   "source": [
    "plt.imshow(np.log10(GC_20x20_cmap[0].data))\n",
    "plt.colorbar()"
   ]
  },
  {
   "cell_type": "code",
   "execution_count": 30,
   "id": "67e11aaf",
   "metadata": {},
   "outputs": [],
   "source": [
    "py_GC_20x20_cmap = fits.open('./temp/py_GC_20x20_cmap.fits')"
   ]
  },
  {
   "cell_type": "code",
   "execution_count": 31,
   "id": "5843590b",
   "metadata": {},
   "outputs": [
    {
     "name": "stdout",
     "output_type": "stream",
     "text": [
      "Filename: ./temp/py_GC_20x20_cmap.fits\n",
      "No.    Name      Ver    Type      Cards   Dimensions   Format\n",
      "  0  PRIMARY       1 PrimaryHDU     130   (400, 400)   int32   \n",
      "  1  GTI           1 BinTableHDU     48   66861R x 2C   [D, D]   \n"
     ]
    }
   ],
   "source": [
    "py_GC_20x20_cmap.info()"
   ]
  },
  {
   "cell_type": "code",
   "execution_count": 32,
   "id": "4bbb7477",
   "metadata": {},
   "outputs": [
    {
     "name": "stderr",
     "output_type": "stream",
     "text": [
      "/home/dhsong/anaconda3/envs/fermipy/lib/python3.7/site-packages/ipykernel_launcher.py:1: RuntimeWarning: divide by zero encountered in log10\n",
      "  \"\"\"Entry point for launching an IPython kernel.\n"
     ]
    },
    {
     "data": {
      "text/plain": [
       "<matplotlib.colorbar.Colorbar at 0x7fdcae508d50>"
      ]
     },
     "execution_count": 32,
     "metadata": {},
     "output_type": "execute_result"
    },
    {
     "data": {
      "image/png": "[encoded data removed]",
      "text/plain": [
       "<Figure size 432x288 with 2 Axes>"
      ]
     },
     "metadata": {
      "needs_background": "light"
     },
     "output_type": "display_data"
    }
   ],
   "source": [
    "plt.imshow(np.log10(py_GC_20x20_cmap[0].data))\n",
    "plt.colorbar()"
   ]
  },
  {
   "cell_type": "markdown",
   "id": "63d17637",
   "metadata": {},
   "source": [
    "# 4. Examining Exposure Maps"
   ]
  },
  {
   "cell_type": "markdown",
   "id": "e25a726b",
   "metadata": {},
   "source": [
    "## 4.1 Calculate the Livetime"
   ]
  },
  {
   "cell_type": "markdown",
   "id": "1fcc8495",
   "metadata": {},
   "source": [
    "https://fermi.gsfc.nasa.gov/ssc/data/analysis/documentation/Cicerone/Cicerone_Data_Exploration/livetime_and_exposure.html"
   ]
  },
  {
   "cell_type": "markdown",
   "id": "b9dc8efb",
   "metadata": {},
   "source": [
    "Generally, to look at the exposure you must:\n",
    "- Make an livetime cube from the spacecraft data file using gtltcube.  \n",
    "- As necessary, merge multiple livetime cubes covering different time ranges.  \n",
    "- Create the exposure map using the gtexpmap tool."
   ]
  },
  {
   "cell_type": "code",
   "execution_count": 1,
   "id": "c7196a81",
   "metadata": {},
   "outputs": [
    {
     "name": "stdout",
     "output_type": "stream",
     "text": [
      "Working on file /work/cascades/dhsong/mission/spacecraft/lat_spacecraft_merged.fits\n",
      ".....................!\n"
     ]
    }
   ],
   "source": [
    "!gtltcube zmax = 90 \\\n",
    "    evfile = ./temp/GC_20x20_filtered_gti.fits \\\n",
    "    scfile = /work/cascades/dhsong/mission/spacecraft/lat_spacecraft_merged.fits \\\n",
    "    outfile = ./temp/GC_20x20_ltcube.fits \\\n",
    "    dcostheta = 0.025 \\\n",
    "    binsz = 1\n",
    "\n",
    "#### gtltcube Parameters:\n",
    "# Event data file\n",
    "# Spacecraft data file\n",
    "# Output file\n",
    "# Step size in cos(theta) (0.:1.)\n",
    "# Pixel size (degrees)\n",
    "#\n",
    "# May take a while to finish"
   ]
  },
  {
   "cell_type": "markdown",
   "id": "178d2db0",
   "metadata": {},
   "source": [
    "With python:"
   ]
  },
  {
   "cell_type": "code",
   "execution_count": 5,
   "id": "96ad904d",
   "metadata": {},
   "outputs": [],
   "source": [
    "my_apps.expCube['evfile'] = './temp/py_GC_20x20_filtered_gti.fits'\n",
    "my_apps.expCube['scfile'] = '/work/cascades/dhsong/mission/spacecraft/lat_spacecraft_merged.fits'\n",
    "my_apps.expCube['outfile'] = './temp/py_GC_20x20_ltcube.fits'\n",
    "my_apps.expCube['zmax'] = 90\n",
    "my_apps.expCube['dcostheta'] = 0.025\n",
    "my_apps.expCube['binsz'] = 1"
   ]
  },
  {
   "cell_type": "code",
   "execution_count": 6,
   "id": "532d7e72",
   "metadata": {},
   "outputs": [
    {
     "name": "stdout",
     "output_type": "stream",
     "text": [
      "time -p gtltcube evfile=\"./temp/py_GC_20x20_filtered_gti.fits\" evtable=\"EVENTS\" scfile=/work/cascades/dhsong/mission/spacecraft/lat_spacecraft_merged.fits sctable=\"SC_DATA\" outfile=./temp/py_GC_20x20_ltcube.fits dcostheta=0.025 binsz=1.0 phibins=0 tmin=0.0 tmax=0.0 file_version=\"1\" zmin=0.0 zmax=90.0 chatter=2 clobber=yes debug=no gui=no mode=\"ql\"\n",
      "Working on file /work/cascades/dhsong/mission/spacecraft/lat_spacecraft_merged.fits\n",
      ".....................!\n",
      "real 10131.88\n",
      "user 10125.32\n",
      "sys 5.79\n"
     ]
    }
   ],
   "source": [
    "my_apps.expCube.run()"
   ]
  },
  {
   "cell_type": "code",
   "execution_count": 11,
   "id": "578012ee",
   "metadata": {},
   "outputs": [
    {
     "name": "stdout",
     "output_type": "stream",
     "text": [
      "Filename: ./temp/GC_20x20_ltcube.fits\n",
      "No.    Name      Ver    Type      Cards   Dimensions   Format\n",
      "  0  PRIMARY       1 PrimaryHDU      27   ()      \n",
      "  1  EXPOSURE      1 BinTableHDU     59   49152R x 3C   [40E, E, E]   \n",
      "  2  WEIGHTED_EXPOSURE    1 BinTableHDU     59   49152R x 3C   [40E, E, E]   \n",
      "  3  CTHETABOUNDS    1 BinTableHDU     33   40R x 2C   [E, E]   \n",
      "  4  GTI           1 BinTableHDU     46   66861R x 2C   [D, D]   \n"
     ]
    }
   ],
   "source": [
    "GC_20x20_ltcube = fits.open('./temp/GC_20x20_ltcube.fits')\n",
    "GC_20x20_ltcube.info()"
   ]
  },
  {
   "cell_type": "code",
   "execution_count": 12,
   "id": "dc02627f",
   "metadata": {},
   "outputs": [
    {
     "data": {
      "text/plain": [
       "XTENSION= 'BINTABLE'           / binary table extension                         \n",
       "BITPIX  =                    8 / 8-bit bytes                                    \n",
       "NAXIS   =                    2 / 2-dimensional binary table                     \n",
       "NAXIS1  =                  168 / width of table in bytes                        \n",
       "NAXIS2  =                49152 / number of rows in table                        \n",
       "PCOUNT  =                    0 / size of special data area                      \n",
       "GCOUNT  =                    1 / one data group (required keyword)              \n",
       "TFIELDS =                    3 / number of fields in each row                   \n",
       "TTYPE1  = 'COSBINS '           / label for field                                \n",
       "TFORM1  = '40E     '           / data format of field: 4-byte REAL              \n",
       "TTYPE2  = 'RA      '           / RA of HEALPixel center                         \n",
       "TFORM2  = 'E       '           / format of field                                \n",
       "TTYPE3  = 'DEC     '           / DEC of HEALPixel center                        \n",
       "TFORM3  = 'E       '           / format of field                                \n",
       "CHECKSUM= 'ZIglbIgjZIgjbIgj'   / HDU checksum updated 2022-03-01T05:53:04       \n",
       "DATASUM = '1491219562'         / data unit checksum updated 2022-03-01T05:53:04 \n",
       "TELESCOP= 'GLAST   '           / name of telescope generating data              \n",
       "INSTRUME= 'LAT     '           / name of instr. generating data                 \n",
       "EQUINOX =                2000. / equinox for ra and dec                         \n",
       "RADECSYS= 'FK5     '           / world coord. system for this file (FK5 or FK4) \n",
       "DATE    = '2022-03-01T05:53:04.0000' / file creation date (UTC)                 \n",
       "DATE-OBS= '2008-08-04T15:43:36.4941' / start date/time of the obs. (UTC)        \n",
       "DATE-END= '2020-08-02T08:32:59.9999' / end date/time of the obs. (UTC)          \n",
       "OBSERVER= 'Peter Michelson'    / LAT PI                                         \n",
       "ORIGIN  = 'LISOC   '           / name of organization making file               \n",
       "EXTNAME = 'EXPOSURE'           / name of this binary table extension            \n",
       "TSTART  =     239557417.494176 / mission time of the obs. start                 \n",
       "TSTOP   =           618049985. / mission time of the obs. end                   \n",
       "MJDREFI =               51910. / Int. part of MJD of SC clock start             \n",
       "MJDREFF =  0.00074287037037037 / Frac. part of MJD of SC clock start            \n",
       "TIMEUNIT= 's       '           / units for the time related keywords            \n",
       "TIMEZERO=                   0. / clock correction                               \n",
       "TIMESYS = 'TT      '           / type of time system that is used               \n",
       "TIMEREF = 'LOCAL   '           / reference frame used for times                 \n",
       "CLOCKAPP=                    F / clock drift correction applied?                \n",
       "GPS_OUT =                    F / GPS time unavailable at any time during interva\n",
       "PIXTYPE = 'HEALPIX '           / Indicates this is a HEALPix representation     \n",
       "ORDERING= 'NESTED  '           / Can be NESTED or RING                          \n",
       "COORDSYS= 'EQU     '                                                            \n",
       "NSIDE   =                   64 / Number of pixels per side per dodecahedron face\n",
       "FIRSTPIX=                    0 / First pixel index                              \n",
       "LASTPIX =                49151 / Last pixel index                               \n",
       "THETABIN= 'SQRT(1-COSTHETA)'   / Costheta binning scheme                        \n",
       "NBRBINS =                   40 / Number of costheta bins                        \n",
       "COSMIN  =                   0. / Minimum costheta value                         \n",
       "PHIBINS =                    0 / Number of phi bins                             \n",
       "TUNIT1  = 's       '           / physical unit of field                         \n",
       "TUNIT2  = 'deg     '                                                            \n",
       "TLMIN2  =                   0. / minimum value                                  \n",
       "TLMAX2  =                 360. / maximum value                                  \n",
       "TUNIT3  = 'deg     '                                                            \n",
       "TLMIN3  =                 -90. / minimum value                                  \n",
       "TLMAX3  =                  90. / maximum value                                  \n",
       "EXTVER  =                    1 / auto assigned by template parser               \n",
       "NDSKEYS =                    1                                                  \n",
       "DSTYP1  = 'TIME    '                                                            \n",
       "DSUNI1  = 's       '                                                            \n",
       "DSVAL1  = 'TABLE   '                                                            \n",
       "DSREF1  = ':GTI    '                                                            "
      ]
     },
     "execution_count": 12,
     "metadata": {},
     "output_type": "execute_result"
    }
   ],
   "source": [
    "GC_20x20_ltcube[1].header"
   ]
  },
  {
   "cell_type": "markdown",
   "id": "e5c2468c",
   "metadata": {},
   "source": [
    "### 4.1.1 Combining multiple livetime cubes"
   ]
  },
  {
   "cell_type": "markdown",
   "id": "700fb9b2",
   "metadata": {},
   "source": [
    "See https://github.com/fermi-lat/AnalysisThreads/blob/master/DataSelection/3.ExploreLATData/3.ExploreLATData.ipynb"
   ]
  },
  {
   "cell_type": "markdown",
   "id": "8e742cc2",
   "metadata": {},
   "source": [
    "## 4.2 Generate an Exposure Map or Cube"
   ]
  },
  {
   "cell_type": "markdown",
   "id": "695708d9",
   "metadata": {},
   "source": [
    "### 4.2.1 Exposure maps with gtexpmap"
   ]
  },
  {
   "cell_type": "markdown",
   "id": "6ec99781",
   "metadata": {},
   "source": [
    "With command line:"
   ]
  },
  {
   "cell_type": "code",
   "execution_count": 7,
   "id": "cb5332ee",
   "metadata": {},
   "outputs": [
    {
     "name": "stdout",
     "output_type": "stream",
     "text": [
      "The exposure maps generated by this tool are meant\n",
      "to be used for *unbinned* likelihood analysis only.\n",
      "Do not use them for binned analyses.\n",
      "Computing the ExposureMap using ./temp/GC_20x20_ltcube.fits\n",
      "....................!\n"
     ]
    }
   ],
   "source": [
    "!gtexpmap \\\n",
    "    evfile = ./temp/GC_20x20_filtered_gti.fits \\\n",
    "    scfile = /work/cascades/dhsong/mission/spacecraft/lat_spacecraft_merged.fits \\\n",
    "    expcube = ./temp/GC_20x20_ltcube.fits \\\n",
    "    outfile = ./temp/GC_20x20_exposure_map.fits \\\n",
    "    irfs = P8R3_SOURCE_V3 \\\n",
    "    srcrad = 30 \\\n",
    "    nlong = 500 \\\n",
    "    nlat = 500 \\\n",
    "    nenergies = 30\n",
    "\n",
    "#### gtexpmap Parameters:\n",
    "# Event data file\n",
    "# Spacecraft data file\n",
    "# Exposure hypercube file\n",
    "# Output file name\n",
    "# Response functions\n",
    "# Radius of the source region (in degrees)\n",
    "# Number of longitude points (2:1000)\n",
    "# Number of latitude points (2:1000)\n",
    "# Number of energies (2:100)\n",
    "\n",
    "# This will generate an exposure map.\n",
    "# This may take a long time."
   ]
  },
  {
   "cell_type": "markdown",
   "id": "8de679d7",
   "metadata": {},
   "source": [
    "With python:"
   ]
  },
  {
   "cell_type": "code",
   "execution_count": null,
   "id": "fc59453c",
   "metadata": {},
   "outputs": [],
   "source": []
  },
  {
   "cell_type": "code",
   "execution_count": null,
   "id": "882aa3af",
   "metadata": {},
   "outputs": [],
   "source": []
  },
  {
   "cell_type": "code",
   "execution_count": null,
   "id": "f291b780",
   "metadata": {},
   "outputs": [],
   "source": []
  },
  {
   "cell_type": "code",
   "execution_count": null,
   "id": "e5d84479",
   "metadata": {},
   "outputs": [],
   "source": []
  },
  {
   "cell_type": "markdown",
   "id": "e11a8f62",
   "metadata": {},
   "source": [
    "### 4.2.2 Exposure cubes gtexpcube2"
   ]
  },
  {
   "cell_type": "code",
   "execution_count": 8,
   "id": "1762832d",
   "metadata": {},
   "outputs": [
    {
     "name": "stdout",
     "output_type": "stream",
     "text": [
      "Livetime cube file[]     ./temp/GC_20x20_ltcube.fits\n",
      "Counts map file[]     none\n",
      "Output file name[]     ./temp/GC_20x20_expcube.fits\n",
      "Response functions to use[CALDB]     P8R3_SOURCE_V3\n",
      "Size of the X axis in pixels[INDEF]     300\n",
      "Size of the Y axis in pixels[INDEF]     300\n",
      "Image scale (in degrees/pixel)[INDEF]     .2\n",
      "First coordinate of image center in degrees (RA or galactic l)[INDEF]     266.4050\n",
      "Second coordinate of image center in degrees (DEC or galactic b)[INDEF]     -28.9362\n",
      "Rotation angle of image axis, in degrees[0.]     0\n",
      "Projection method e.g. AIT|ARC|CAR|GLS|MER|NCP|SIN|STG|TAN[CAR]     AIT\n",
      "Coordinate system (CEL - celestial, GAL -galactic) (CEL|GAL) [GAL]     CEL\n",
      "Start energy (MeV) of first bin[INDEF]     100\n",
      "Stop energy (MeV) of last bin[INDEF]     500000\n",
      "Number of logarithmically-spaced energy bins[INDEF]     37\n"
     ]
    },
    {
     "name": "stderr",
     "output_type": "stream",
     "text": [
      "Computing binned exposure map....................!\n"
     ]
    }
   ],
   "source": [
    "%%bash\n",
    "gtexpcube2\n",
    "    ./temp/GC_20x20_ltcube.fits\n",
    "    none\n",
    "    ./temp/GC_20x20_expcube.fits\n",
    "    P8R3_SOURCE_V3\n",
    "    300\n",
    "    300\n",
    "    .2\n",
    "    266.4050\n",
    "    -28.9362\n",
    "    0\n",
    "    AIT\n",
    "    CEL\n",
    "    100\n",
    "    500000\n",
    "    37\n",
    "    \n",
    "#### gtexpmap Parameters:\n",
    "# Event data file\n",
    "# Spacecraft data file\n",
    "# Exposure hypercube file\n",
    "# Output file name\n",
    "# Response functions\n",
    "# Radius of the source region (in degrees)\n",
    "# Number of longitude points (2:1000)\n",
    "# Number of latitude points (2:1000)\n",
    "# Number of energies (2:100)\n",
    "\n",
    "# This will generate an exposure map.\n",
    "# This may take a long time."
   ]
  },
  {
   "cell_type": "markdown",
   "id": "cd266365",
   "metadata": {},
   "source": [
    "With python:"
   ]
  },
  {
   "cell_type": "code",
   "execution_count": null,
   "id": "3ada3003",
   "metadata": {},
   "outputs": [],
   "source": []
  }
 ],
 "metadata": {
  "kernelspec": {
   "display_name": "Python 3",
   "language": "python",
   "name": "python3"
  },
  "language_info": {
   "codemirror_mode": {
    "name": "ipython",
    "version": 3
   },
   "file_extension": ".py",
   "mimetype": "text/x-python",
   "name": "python",
   "nbconvert_exporter": "python",
   "pygments_lexer": "ipython3",
   "version": "3.7.10"
  }
 },
 "nbformat": 4,
 "nbformat_minor": 5
}
